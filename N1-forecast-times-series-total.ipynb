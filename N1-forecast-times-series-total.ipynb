{
 "cells": [
  {
   "cell_type": "markdown",
   "metadata": {
    "id": "eWSauMoJjdEb",
    "tags": []
   },
   "source": [
    "## importando a base de dados nescessaria"
   ]
  },
  {
   "cell_type": "code",
   "execution_count": 1,
   "metadata": {
    "colab": {
     "base_uri": "https://localhost:8080/"
    },
    "id": "maOtEUrqzEwM",
    "outputId": "a8b88437-99b0-4289-f13b-21368572b122",
    "tags": []
   },
   "outputs": [
    {
     "name": "stdout",
     "output_type": "stream",
     "text": [
      "Requirement already satisfied: mlforecast in /opt/conda/lib/python3.10/site-packages (0.13.1)\n",
      "Requirement already satisfied: cloudpickle in /opt/conda/lib/python3.10/site-packages (from mlforecast) (3.0.0)\n",
      "Requirement already satisfied: coreforecast>=0.0.10 in /opt/conda/lib/python3.10/site-packages (from mlforecast) (0.0.10)\n",
      "Requirement already satisfied: fsspec in /opt/conda/lib/python3.10/site-packages (from mlforecast) (2024.6.0)\n",
      "Requirement already satisfied: numba in /opt/conda/lib/python3.10/site-packages (from mlforecast) (0.60.0)\n",
      "Requirement already satisfied: optuna in /opt/conda/lib/python3.10/site-packages (from mlforecast) (3.6.1)\n",
      "Requirement already satisfied: packaging in /opt/conda/lib/python3.10/site-packages (from mlforecast) (24.1)\n",
      "Requirement already satisfied: pandas in /opt/conda/lib/python3.10/site-packages (from mlforecast) (2.2.2)\n",
      "Requirement already satisfied: scikit-learn in /opt/conda/lib/python3.10/site-packages (from mlforecast) (1.5.0)\n",
      "Requirement already satisfied: utilsforecast>=0.1.9 in /opt/conda/lib/python3.10/site-packages (from mlforecast) (0.1.12)\n",
      "Requirement already satisfied: window-ops in /opt/conda/lib/python3.10/site-packages (from mlforecast) (0.0.15)\n",
      "Requirement already satisfied: numpy>=1.20.0 in /opt/conda/lib/python3.10/site-packages (from coreforecast>=0.0.10->mlforecast) (1.26.4)\n",
      "Requirement already satisfied: python-dateutil>=2.8.2 in /opt/conda/lib/python3.10/site-packages (from pandas->mlforecast) (2.9.0)\n",
      "Requirement already satisfied: pytz>=2020.1 in /opt/conda/lib/python3.10/site-packages (from pandas->mlforecast) (2024.1)\n",
      "Requirement already satisfied: tzdata>=2022.7 in /opt/conda/lib/python3.10/site-packages (from pandas->mlforecast) (2024.1)\n",
      "Requirement already satisfied: llvmlite<0.44,>=0.43.0dev0 in /opt/conda/lib/python3.10/site-packages (from numba->mlforecast) (0.43.0)\n",
      "Requirement already satisfied: alembic>=1.5.0 in /opt/conda/lib/python3.10/site-packages (from optuna->mlforecast) (1.13.2)\n",
      "Requirement already satisfied: colorlog in /opt/conda/lib/python3.10/site-packages (from optuna->mlforecast) (6.8.2)\n",
      "Requirement already satisfied: sqlalchemy>=1.3.0 in /opt/conda/lib/python3.10/site-packages (from optuna->mlforecast) (2.0.30)\n",
      "Requirement already satisfied: tqdm in /opt/conda/lib/python3.10/site-packages (from optuna->mlforecast) (4.66.4)\n",
      "Requirement already satisfied: PyYAML in /opt/conda/lib/python3.10/site-packages (from optuna->mlforecast) (6.0.1)\n",
      "Requirement already satisfied: scipy>=1.6.0 in /opt/conda/lib/python3.10/site-packages (from scikit-learn->mlforecast) (1.13.1)\n",
      "Requirement already satisfied: joblib>=1.2.0 in /opt/conda/lib/python3.10/site-packages (from scikit-learn->mlforecast) (1.4.2)\n",
      "Requirement already satisfied: threadpoolctl>=3.1.0 in /opt/conda/lib/python3.10/site-packages (from scikit-learn->mlforecast) (3.5.0)\n",
      "Requirement already satisfied: Mako in /opt/conda/lib/python3.10/site-packages (from alembic>=1.5.0->optuna->mlforecast) (1.3.5)\n",
      "Requirement already satisfied: typing-extensions>=4 in /opt/conda/lib/python3.10/site-packages (from alembic>=1.5.0->optuna->mlforecast) (4.12.2)\n",
      "Requirement already satisfied: six>=1.5 in /opt/conda/lib/python3.10/site-packages (from python-dateutil>=2.8.2->pandas->mlforecast) (1.16.0)\n",
      "Requirement already satisfied: greenlet!=0.4.17 in /opt/conda/lib/python3.10/site-packages (from sqlalchemy>=1.3.0->optuna->mlforecast) (3.0.3)\n",
      "Requirement already satisfied: MarkupSafe>=0.9.2 in /opt/conda/lib/python3.10/site-packages (from Mako->alembic>=1.5.0->optuna->mlforecast) (2.1.5)\n",
      "Requirement already satisfied: lightgbm in /opt/conda/lib/python3.10/site-packages (4.4.0)\n",
      "Requirement already satisfied: numpy>=1.17.0 in /opt/conda/lib/python3.10/site-packages (from lightgbm) (1.26.4)\n",
      "Requirement already satisfied: scipy in /opt/conda/lib/python3.10/site-packages (from lightgbm) (1.13.1)\n",
      "Requirement already satisfied: xgboost in /opt/conda/lib/python3.10/site-packages (2.1.0)\n",
      "Requirement already satisfied: numpy in /opt/conda/lib/python3.10/site-packages (from xgboost) (1.26.4)\n",
      "Requirement already satisfied: nvidia-nccl-cu12 in /opt/conda/lib/python3.10/site-packages (from xgboost) (2.22.3)\n",
      "Requirement already satisfied: scipy in /opt/conda/lib/python3.10/site-packages (from xgboost) (1.13.1)\n"
     ]
    }
   ],
   "source": [
    "!pip install mlforecast\n",
    "!pip install lightgbm\n",
    "!pip install xgboost"
   ]
  },
  {
   "cell_type": "code",
   "execution_count": 2,
   "metadata": {
    "id": "CExAIXZSzRpN",
    "tags": []
   },
   "outputs": [],
   "source": [
    "import numpy as np\n",
    "import pandas as pd\n",
    "import matplotlib.pyplot as plt\n",
    "import statsmodels.api as sm\n",
    "from typing import List\n",
    "import pickle\n",
    "\n",
    "import mlforecast\n",
    "from mlforecast import MLForecast\n",
    "\n",
    "from utilsforecast.losses import mae, mape, rmse, smape\n",
    "from utilsforecast.evaluation import evaluate\n",
    "\n",
    "from utilsforecast.plotting import plot_series\n",
    "\n",
    "import lightgbm as lgb\n",
    "from sklearn.base import BaseEstimator\n",
    "from sklearn.linear_model import Lasso, LinearRegression, Ridge\n",
    "from sklearn.neighbors import KNeighborsRegressor\n",
    "from sklearn.neural_network import MLPRegressor\n",
    "from sklearn.ensemble import RandomForestRegressor\n",
    "from xgboost.sklearn import XGBRegressor\n",
    "\n",
    "from mlforecast import MLForecast\n",
    "from sklearn.ensemble import ExtraTreesRegressor, GradientBoostingRegressor, HistGradientBoostingRegressor, AdaBoostRegressor\n",
    "import lightgbm as lgb\n",
    "from xgboost import XGBRegressor\n",
    "\n",
    "from sklearn.metrics import mean_absolute_error\n",
    "from sklearn.metrics import mean_absolute_percentage_error\n",
    "from sklearn.metrics import mean_squared_error\n",
    "from sklearn.metrics import r2_score\n",
    "from math import sqrt\n",
    "\n",
    "from mlforecast.auto import (\n",
    "    AutoLightGBM,\n",
    "    AutoMLForecast,\n",
    "    AutoModel,\n",
    "    AutoRidge,\n",
    "    ridge_space,\n",
    "    AutoRandomForest,\n",
    "    AutoXGBoost,\n",
    "    AutoLinearRegression,\n",
    "    AutoLasso,\n",
    "    AutoElasticNet,\n",
    "    AutoCatboost,\n",
    "    xgboost_space,\n",
    "    catboost_space,\n",
    "    random_forest_space\n",
    ")\n",
    "\n",
    "import warnings\n",
    "warnings.filterwarnings('ignore')"
   ]
  },
  {
   "cell_type": "markdown",
   "metadata": {
    "tags": []
   },
   "source": [
    "### Funções"
   ]
  },
  {
   "cell_type": "code",
   "execution_count": 3,
   "metadata": {
    "tags": []
   },
   "outputs": [],
   "source": [
    "def acf_pacf(x, qtd_lag):\n",
    "    fig = plt.figure(figsize=(16,10))\n",
    "    ax1 = fig.add_subplot(221)\n",
    "    fig = sm.graphics.tsa.plot_acf(x, lags=qtd_lag, ax=ax1)\n",
    "    ax2 = fig.add_subplot(222)\n",
    "    fig = sm.graphics.tsa.plot_pacf(x, lags=qtd_lag, ax=ax2)\n",
    "    plt.show()"
   ]
  },
  {
   "cell_type": "markdown",
   "metadata": {
    "id": "j1fMlDs4zr8a",
    "tags": []
   },
   "source": [
    "## Importando a base de dados"
   ]
  },
  {
   "cell_type": "code",
   "execution_count": 4,
   "metadata": {
    "id": "Nyt3Nm2gzmN_",
    "tags": []
   },
   "outputs": [],
   "source": [
    "bucket_uri = \"gs://m5_dados/M5_full.parquet\""
   ]
  },
  {
   "cell_type": "code",
   "execution_count": 5,
   "metadata": {
    "tags": []
   },
   "outputs": [],
   "source": [
    "data = pd.read_parquet(bucket_uri)"
   ]
  },
  {
   "cell_type": "code",
   "execution_count": 6,
   "metadata": {
    "colab": {
     "base_uri": "https://localhost:8080/",
     "height": 423
    },
    "id": "QUG_ul1JlUEE",
    "outputId": "0d09f0e9-31b1-4102-d1b0-6a968773fc4a",
    "tags": []
   },
   "outputs": [
    {
     "data": {
      "text/html": [
       "<div>\n",
       "<style scoped>\n",
       "    .dataframe tbody tr th:only-of-type {\n",
       "        vertical-align: middle;\n",
       "    }\n",
       "\n",
       "    .dataframe tbody tr th {\n",
       "        vertical-align: top;\n",
       "    }\n",
       "\n",
       "    .dataframe thead th {\n",
       "        text-align: right;\n",
       "    }\n",
       "</style>\n",
       "<table border=\"1\" class=\"dataframe\">\n",
       "  <thead>\n",
       "    <tr style=\"text-align: right;\">\n",
       "      <th></th>\n",
       "      <th>id</th>\n",
       "      <th>item_id</th>\n",
       "      <th>dept_id</th>\n",
       "      <th>cat_id</th>\n",
       "      <th>store_id</th>\n",
       "      <th>state_id</th>\n",
       "      <th>value</th>\n",
       "      <th>date</th>\n",
       "    </tr>\n",
       "  </thead>\n",
       "  <tbody>\n",
       "    <tr>\n",
       "      <th>0</th>\n",
       "      <td>HOBBIES_1_001_CA_1_evaluation</td>\n",
       "      <td>HOBBIES_1_001</td>\n",
       "      <td>HOBBIES_1</td>\n",
       "      <td>HOBBIES</td>\n",
       "      <td>CA_1</td>\n",
       "      <td>CA</td>\n",
       "      <td>0</td>\n",
       "      <td>2011-01-29</td>\n",
       "    </tr>\n",
       "    <tr>\n",
       "      <th>1</th>\n",
       "      <td>HOBBIES_1_002_CA_1_evaluation</td>\n",
       "      <td>HOBBIES_1_002</td>\n",
       "      <td>HOBBIES_1</td>\n",
       "      <td>HOBBIES</td>\n",
       "      <td>CA_1</td>\n",
       "      <td>CA</td>\n",
       "      <td>0</td>\n",
       "      <td>2011-01-29</td>\n",
       "    </tr>\n",
       "    <tr>\n",
       "      <th>2</th>\n",
       "      <td>HOBBIES_1_003_CA_1_evaluation</td>\n",
       "      <td>HOBBIES_1_003</td>\n",
       "      <td>HOBBIES_1</td>\n",
       "      <td>HOBBIES</td>\n",
       "      <td>CA_1</td>\n",
       "      <td>CA</td>\n",
       "      <td>0</td>\n",
       "      <td>2011-01-29</td>\n",
       "    </tr>\n",
       "    <tr>\n",
       "      <th>3</th>\n",
       "      <td>HOBBIES_1_004_CA_1_evaluation</td>\n",
       "      <td>HOBBIES_1_004</td>\n",
       "      <td>HOBBIES_1</td>\n",
       "      <td>HOBBIES</td>\n",
       "      <td>CA_1</td>\n",
       "      <td>CA</td>\n",
       "      <td>0</td>\n",
       "      <td>2011-01-29</td>\n",
       "    </tr>\n",
       "    <tr>\n",
       "      <th>4</th>\n",
       "      <td>HOBBIES_1_005_CA_1_evaluation</td>\n",
       "      <td>HOBBIES_1_005</td>\n",
       "      <td>HOBBIES_1</td>\n",
       "      <td>HOBBIES</td>\n",
       "      <td>CA_1</td>\n",
       "      <td>CA</td>\n",
       "      <td>0</td>\n",
       "      <td>2011-01-29</td>\n",
       "    </tr>\n",
       "    <tr>\n",
       "      <th>...</th>\n",
       "      <td>...</td>\n",
       "      <td>...</td>\n",
       "      <td>...</td>\n",
       "      <td>...</td>\n",
       "      <td>...</td>\n",
       "      <td>...</td>\n",
       "      <td>...</td>\n",
       "      <td>...</td>\n",
       "    </tr>\n",
       "    <tr>\n",
       "      <th>59181085</th>\n",
       "      <td>FOODS_3_823_WI_3_evaluation</td>\n",
       "      <td>FOODS_3_823</td>\n",
       "      <td>FOODS_3</td>\n",
       "      <td>FOODS</td>\n",
       "      <td>WI_3</td>\n",
       "      <td>WI</td>\n",
       "      <td>1</td>\n",
       "      <td>2016-05-22</td>\n",
       "    </tr>\n",
       "    <tr>\n",
       "      <th>59181086</th>\n",
       "      <td>FOODS_3_824_WI_3_evaluation</td>\n",
       "      <td>FOODS_3_824</td>\n",
       "      <td>FOODS_3</td>\n",
       "      <td>FOODS</td>\n",
       "      <td>WI_3</td>\n",
       "      <td>WI</td>\n",
       "      <td>0</td>\n",
       "      <td>2016-05-22</td>\n",
       "    </tr>\n",
       "    <tr>\n",
       "      <th>59181087</th>\n",
       "      <td>FOODS_3_825_WI_3_evaluation</td>\n",
       "      <td>FOODS_3_825</td>\n",
       "      <td>FOODS_3</td>\n",
       "      <td>FOODS</td>\n",
       "      <td>WI_3</td>\n",
       "      <td>WI</td>\n",
       "      <td>2</td>\n",
       "      <td>2016-05-22</td>\n",
       "    </tr>\n",
       "    <tr>\n",
       "      <th>59181088</th>\n",
       "      <td>FOODS_3_826_WI_3_evaluation</td>\n",
       "      <td>FOODS_3_826</td>\n",
       "      <td>FOODS_3</td>\n",
       "      <td>FOODS</td>\n",
       "      <td>WI_3</td>\n",
       "      <td>WI</td>\n",
       "      <td>0</td>\n",
       "      <td>2016-05-22</td>\n",
       "    </tr>\n",
       "    <tr>\n",
       "      <th>59181089</th>\n",
       "      <td>FOODS_3_827_WI_3_evaluation</td>\n",
       "      <td>FOODS_3_827</td>\n",
       "      <td>FOODS_3</td>\n",
       "      <td>FOODS</td>\n",
       "      <td>WI_3</td>\n",
       "      <td>WI</td>\n",
       "      <td>1</td>\n",
       "      <td>2016-05-22</td>\n",
       "    </tr>\n",
       "  </tbody>\n",
       "</table>\n",
       "<p>59181090 rows × 8 columns</p>\n",
       "</div>"
      ],
      "text/plain": [
       "                                     id        item_id    dept_id   cat_id  \\\n",
       "0         HOBBIES_1_001_CA_1_evaluation  HOBBIES_1_001  HOBBIES_1  HOBBIES   \n",
       "1         HOBBIES_1_002_CA_1_evaluation  HOBBIES_1_002  HOBBIES_1  HOBBIES   \n",
       "2         HOBBIES_1_003_CA_1_evaluation  HOBBIES_1_003  HOBBIES_1  HOBBIES   \n",
       "3         HOBBIES_1_004_CA_1_evaluation  HOBBIES_1_004  HOBBIES_1  HOBBIES   \n",
       "4         HOBBIES_1_005_CA_1_evaluation  HOBBIES_1_005  HOBBIES_1  HOBBIES   \n",
       "...                                 ...            ...        ...      ...   \n",
       "59181085    FOODS_3_823_WI_3_evaluation    FOODS_3_823    FOODS_3    FOODS   \n",
       "59181086    FOODS_3_824_WI_3_evaluation    FOODS_3_824    FOODS_3    FOODS   \n",
       "59181087    FOODS_3_825_WI_3_evaluation    FOODS_3_825    FOODS_3    FOODS   \n",
       "59181088    FOODS_3_826_WI_3_evaluation    FOODS_3_826    FOODS_3    FOODS   \n",
       "59181089    FOODS_3_827_WI_3_evaluation    FOODS_3_827    FOODS_3    FOODS   \n",
       "\n",
       "         store_id state_id  value        date  \n",
       "0            CA_1       CA      0  2011-01-29  \n",
       "1            CA_1       CA      0  2011-01-29  \n",
       "2            CA_1       CA      0  2011-01-29  \n",
       "3            CA_1       CA      0  2011-01-29  \n",
       "4            CA_1       CA      0  2011-01-29  \n",
       "...           ...      ...    ...         ...  \n",
       "59181085     WI_3       WI      1  2016-05-22  \n",
       "59181086     WI_3       WI      0  2016-05-22  \n",
       "59181087     WI_3       WI      2  2016-05-22  \n",
       "59181088     WI_3       WI      0  2016-05-22  \n",
       "59181089     WI_3       WI      1  2016-05-22  \n",
       "\n",
       "[59181090 rows x 8 columns]"
      ]
     },
     "execution_count": 6,
     "metadata": {},
     "output_type": "execute_result"
    }
   ],
   "source": [
    "data"
   ]
  },
  {
   "cell_type": "code",
   "execution_count": 7,
   "metadata": {
    "colab": {
     "base_uri": "https://localhost:8080/"
    },
    "id": "2m9QD2FB6rgF",
    "outputId": "1a7e8cf8-84fc-4371-f941-d3d9b91757c1",
    "tags": []
   },
   "outputs": [
    {
     "data": {
      "text/plain": [
       "30490"
      ]
     },
     "execution_count": 7,
     "metadata": {},
     "output_type": "execute_result"
    }
   ],
   "source": [
    "data['id'].nunique()"
   ]
  },
  {
   "cell_type": "code",
   "execution_count": 8,
   "metadata": {
    "colab": {
     "base_uri": "https://localhost:8080/"
    },
    "id": "Eq6k55QllTEC",
    "outputId": "5de46695-3463-4ebb-cc5b-594e0b54fa30",
    "tags": []
   },
   "outputs": [
    {
     "data": {
      "text/plain": [
       "3049"
      ]
     },
     "execution_count": 8,
     "metadata": {},
     "output_type": "execute_result"
    }
   ],
   "source": [
    "data['item_id'].nunique()"
   ]
  },
  {
   "cell_type": "code",
   "execution_count": 9,
   "metadata": {
    "colab": {
     "base_uri": "https://localhost:8080/"
    },
    "id": "L24vFcmIlo8w",
    "outputId": "77630f73-f4d6-4142-9517-20917c0e2962",
    "tags": []
   },
   "outputs": [
    {
     "data": {
      "text/plain": [
       "7"
      ]
     },
     "execution_count": 9,
     "metadata": {},
     "output_type": "execute_result"
    }
   ],
   "source": [
    "data['dept_id'].nunique()"
   ]
  },
  {
   "cell_type": "code",
   "execution_count": 10,
   "metadata": {
    "colab": {
     "base_uri": "https://localhost:8080/"
    },
    "id": "Zp1otA0Vlv3R",
    "outputId": "184f6fb0-32b2-49c5-bc30-5d5ad8b125c5",
    "tags": []
   },
   "outputs": [
    {
     "data": {
      "text/plain": [
       "3"
      ]
     },
     "execution_count": 10,
     "metadata": {},
     "output_type": "execute_result"
    }
   ],
   "source": [
    "data['cat_id'].nunique()"
   ]
  },
  {
   "cell_type": "code",
   "execution_count": 11,
   "metadata": {
    "colab": {
     "base_uri": "https://localhost:8080/"
    },
    "id": "qAA3i1gHl5ds",
    "outputId": "3d85553b-fc03-4e88-d4f3-adad603d7ea0",
    "tags": []
   },
   "outputs": [
    {
     "data": {
      "text/plain": [
       "10"
      ]
     },
     "execution_count": 11,
     "metadata": {},
     "output_type": "execute_result"
    }
   ],
   "source": [
    "data['store_id'].nunique()"
   ]
  },
  {
   "cell_type": "code",
   "execution_count": 12,
   "metadata": {
    "colab": {
     "base_uri": "https://localhost:8080/"
    },
    "id": "YitLkDC-l7Ry",
    "outputId": "8ec03a52-eda6-4232-de3b-b97ca6f9187d",
    "tags": []
   },
   "outputs": [
    {
     "data": {
      "text/plain": [
       "3"
      ]
     },
     "execution_count": 12,
     "metadata": {},
     "output_type": "execute_result"
    }
   ],
   "source": [
    "data['state_id'].nunique()"
   ]
  },
  {
   "cell_type": "code",
   "execution_count": 13,
   "metadata": {
    "id": "mZVS9w6N369C",
    "tags": []
   },
   "outputs": [],
   "source": [
    "data['date'] = pd.to_datetime(data['date'])"
   ]
  },
  {
   "cell_type": "code",
   "execution_count": 14,
   "metadata": {
    "id": "1_-fDQ6P8VLF",
    "tags": []
   },
   "outputs": [],
   "source": [
    "data = data.set_index('date')"
   ]
  },
  {
   "cell_type": "markdown",
   "metadata": {
    "id": "Y5H_MDYUnrQm",
    "tags": []
   },
   "source": [
    "## Previsão vendas da empresa✅"
   ]
  },
  {
   "cell_type": "code",
   "execution_count": 15,
   "metadata": {
    "id": "GLpQHPsdn_3d",
    "tags": []
   },
   "outputs": [],
   "source": [
    "df_vendas_empresa_geral = data.drop(columns=[\"item_id\", \"dept_id\", \"cat_id\", \"store_id\", \"state_id\"])\n",
    "df_vendas_empresa_geral.reset_index()\n",
    "df_vendas_empresa_geral = df_vendas_empresa_geral.drop(columns=[\"id\"])"
   ]
  },
  {
   "cell_type": "code",
   "execution_count": 16,
   "metadata": {
    "colab": {
     "base_uri": "https://localhost:8080/",
     "height": 423
    },
    "id": "4S08g7hknpxA",
    "outputId": "fa65b238-b3b2-4e15-a85e-58bbf29e6e47",
    "tags": []
   },
   "outputs": [],
   "source": [
    "df_vendas_empresa_geral = df_vendas_empresa_geral.reset_index()"
   ]
  },
  {
   "cell_type": "code",
   "execution_count": 17,
   "metadata": {
    "id": "xhT95GvapwSx",
    "tags": []
   },
   "outputs": [],
   "source": [
    "#df_vendas_empresa_geral['date'] = pd.to_datetime(data['date'])\n",
    "df_vendas_empresa_geral.set_index('date', inplace=True)"
   ]
  },
  {
   "cell_type": "code",
   "execution_count": 18,
   "metadata": {
    "id": "eOUBeQeSpwPX",
    "tags": []
   },
   "outputs": [],
   "source": [
    "df_vendas_empresa_geral = df_vendas_empresa_geral.resample('M').sum()"
   ]
  },
  {
   "cell_type": "code",
   "execution_count": 19,
   "metadata": {
    "colab": {
     "base_uri": "https://localhost:8080/",
     "height": 455
    },
    "id": "yuw1i8bhpwNJ",
    "outputId": "d796e473-5bfc-419a-d94e-8d5375ee7d6b",
    "tags": []
   },
   "outputs": [
    {
     "data": {
      "text/html": [
       "<div>\n",
       "<style scoped>\n",
       "    .dataframe tbody tr th:only-of-type {\n",
       "        vertical-align: middle;\n",
       "    }\n",
       "\n",
       "    .dataframe tbody tr th {\n",
       "        vertical-align: top;\n",
       "    }\n",
       "\n",
       "    .dataframe thead th {\n",
       "        text-align: right;\n",
       "    }\n",
       "</style>\n",
       "<table border=\"1\" class=\"dataframe\">\n",
       "  <thead>\n",
       "    <tr style=\"text-align: right;\">\n",
       "      <th></th>\n",
       "      <th>value</th>\n",
       "    </tr>\n",
       "    <tr>\n",
       "      <th>date</th>\n",
       "      <th></th>\n",
       "    </tr>\n",
       "  </thead>\n",
       "  <tbody>\n",
       "    <tr>\n",
       "      <th>2011-01-31</th>\n",
       "      <td>88163</td>\n",
       "    </tr>\n",
       "    <tr>\n",
       "      <th>2011-02-28</th>\n",
       "      <td>726375</td>\n",
       "    </tr>\n",
       "    <tr>\n",
       "      <th>2011-03-31</th>\n",
       "      <td>763567</td>\n",
       "    </tr>\n",
       "    <tr>\n",
       "      <th>2011-04-30</th>\n",
       "      <td>737713</td>\n",
       "    </tr>\n",
       "    <tr>\n",
       "      <th>2011-05-31</th>\n",
       "      <td>719562</td>\n",
       "    </tr>\n",
       "    <tr>\n",
       "      <th>...</th>\n",
       "      <td>...</td>\n",
       "    </tr>\n",
       "    <tr>\n",
       "      <th>2016-01-31</th>\n",
       "      <td>1215286</td>\n",
       "    </tr>\n",
       "    <tr>\n",
       "      <th>2016-02-29</th>\n",
       "      <td>1212927</td>\n",
       "    </tr>\n",
       "    <tr>\n",
       "      <th>2016-03-31</th>\n",
       "      <td>1275746</td>\n",
       "    </tr>\n",
       "    <tr>\n",
       "      <th>2016-04-30</th>\n",
       "      <td>1283470</td>\n",
       "    </tr>\n",
       "    <tr>\n",
       "      <th>2016-05-31</th>\n",
       "      <td>994982</td>\n",
       "    </tr>\n",
       "  </tbody>\n",
       "</table>\n",
       "<p>65 rows × 1 columns</p>\n",
       "</div>"
      ],
      "text/plain": [
       "              value\n",
       "date               \n",
       "2011-01-31    88163\n",
       "2011-02-28   726375\n",
       "2011-03-31   763567\n",
       "2011-04-30   737713\n",
       "2011-05-31   719562\n",
       "...             ...\n",
       "2016-01-31  1215286\n",
       "2016-02-29  1212927\n",
       "2016-03-31  1275746\n",
       "2016-04-30  1283470\n",
       "2016-05-31   994982\n",
       "\n",
       "[65 rows x 1 columns]"
      ]
     },
     "execution_count": 19,
     "metadata": {},
     "output_type": "execute_result"
    }
   ],
   "source": [
    "df_vendas_empresa_geral"
   ]
  },
  {
   "cell_type": "code",
   "execution_count": 20,
   "metadata": {
    "id": "sXswTqUfpwK0",
    "tags": []
   },
   "outputs": [],
   "source": [
    "num_months = df_vendas_empresa_geral.shape[0]"
   ]
  },
  {
   "cell_type": "code",
   "execution_count": 21,
   "metadata": {
    "colab": {
     "base_uri": "https://localhost:8080/"
    },
    "id": "s_HvcN0wpwH8",
    "outputId": "5e0fc39c-ea0e-49b2-fb44-047cd1021380",
    "tags": []
   },
   "outputs": [
    {
     "data": {
      "text/plain": [
       "65"
      ]
     },
     "execution_count": 21,
     "metadata": {},
     "output_type": "execute_result"
    }
   ],
   "source": [
    "num_months"
   ]
  },
  {
   "cell_type": "code",
   "execution_count": 22,
   "metadata": {
    "id": "k8hRURREpwDJ",
    "tags": []
   },
   "outputs": [],
   "source": [
    "df_vendas_empresa_geral = df_vendas_empresa_geral.reset_index()"
   ]
  },
  {
   "cell_type": "code",
   "execution_count": 23,
   "metadata": {
    "colab": {
     "base_uri": "https://localhost:8080/",
     "height": 423
    },
    "id": "PXcUcfYWpwAz",
    "outputId": "53ebd991-42aa-4367-bb58-6fea8b55e4e4",
    "tags": []
   },
   "outputs": [
    {
     "data": {
      "text/html": [
       "<div>\n",
       "<style scoped>\n",
       "    .dataframe tbody tr th:only-of-type {\n",
       "        vertical-align: middle;\n",
       "    }\n",
       "\n",
       "    .dataframe tbody tr th {\n",
       "        vertical-align: top;\n",
       "    }\n",
       "\n",
       "    .dataframe thead th {\n",
       "        text-align: right;\n",
       "    }\n",
       "</style>\n",
       "<table border=\"1\" class=\"dataframe\">\n",
       "  <thead>\n",
       "    <tr style=\"text-align: right;\">\n",
       "      <th></th>\n",
       "      <th>date</th>\n",
       "      <th>value</th>\n",
       "    </tr>\n",
       "  </thead>\n",
       "  <tbody>\n",
       "    <tr>\n",
       "      <th>0</th>\n",
       "      <td>2011-01-31</td>\n",
       "      <td>88163</td>\n",
       "    </tr>\n",
       "    <tr>\n",
       "      <th>1</th>\n",
       "      <td>2011-02-28</td>\n",
       "      <td>726375</td>\n",
       "    </tr>\n",
       "    <tr>\n",
       "      <th>2</th>\n",
       "      <td>2011-03-31</td>\n",
       "      <td>763567</td>\n",
       "    </tr>\n",
       "    <tr>\n",
       "      <th>3</th>\n",
       "      <td>2011-04-30</td>\n",
       "      <td>737713</td>\n",
       "    </tr>\n",
       "    <tr>\n",
       "      <th>4</th>\n",
       "      <td>2011-05-31</td>\n",
       "      <td>719562</td>\n",
       "    </tr>\n",
       "    <tr>\n",
       "      <th>...</th>\n",
       "      <td>...</td>\n",
       "      <td>...</td>\n",
       "    </tr>\n",
       "    <tr>\n",
       "      <th>60</th>\n",
       "      <td>2016-01-31</td>\n",
       "      <td>1215286</td>\n",
       "    </tr>\n",
       "    <tr>\n",
       "      <th>61</th>\n",
       "      <td>2016-02-29</td>\n",
       "      <td>1212927</td>\n",
       "    </tr>\n",
       "    <tr>\n",
       "      <th>62</th>\n",
       "      <td>2016-03-31</td>\n",
       "      <td>1275746</td>\n",
       "    </tr>\n",
       "    <tr>\n",
       "      <th>63</th>\n",
       "      <td>2016-04-30</td>\n",
       "      <td>1283470</td>\n",
       "    </tr>\n",
       "    <tr>\n",
       "      <th>64</th>\n",
       "      <td>2016-05-31</td>\n",
       "      <td>994982</td>\n",
       "    </tr>\n",
       "  </tbody>\n",
       "</table>\n",
       "<p>65 rows × 2 columns</p>\n",
       "</div>"
      ],
      "text/plain": [
       "         date    value\n",
       "0  2011-01-31    88163\n",
       "1  2011-02-28   726375\n",
       "2  2011-03-31   763567\n",
       "3  2011-04-30   737713\n",
       "4  2011-05-31   719562\n",
       "..        ...      ...\n",
       "60 2016-01-31  1215286\n",
       "61 2016-02-29  1212927\n",
       "62 2016-03-31  1275746\n",
       "63 2016-04-30  1283470\n",
       "64 2016-05-31   994982\n",
       "\n",
       "[65 rows x 2 columns]"
      ]
     },
     "execution_count": 23,
     "metadata": {},
     "output_type": "execute_result"
    }
   ],
   "source": [
    "df_vendas_empresa_geral"
   ]
  },
  {
   "cell_type": "code",
   "execution_count": 24,
   "metadata": {
    "id": "UG2gEukbrjHA",
    "tags": []
   },
   "outputs": [],
   "source": [
    "df_nixtla_vendas_totais = pd.DataFrame({\n",
    "    'unique_id': '0',\n",
    "    'ds': df_vendas_empresa_geral['date'],\n",
    "    'y': df_vendas_empresa_geral['value']\n",
    "})"
   ]
  },
  {
   "cell_type": "code",
   "execution_count": 25,
   "metadata": {
    "colab": {
     "base_uri": "https://localhost:8080/",
     "height": 423
    },
    "id": "99o-KZmwrjD8",
    "outputId": "afff7247-abfb-45c6-9484-a998bb9108b4",
    "tags": []
   },
   "outputs": [
    {
     "data": {
      "text/html": [
       "<div>\n",
       "<style scoped>\n",
       "    .dataframe tbody tr th:only-of-type {\n",
       "        vertical-align: middle;\n",
       "    }\n",
       "\n",
       "    .dataframe tbody tr th {\n",
       "        vertical-align: top;\n",
       "    }\n",
       "\n",
       "    .dataframe thead th {\n",
       "        text-align: right;\n",
       "    }\n",
       "</style>\n",
       "<table border=\"1\" class=\"dataframe\">\n",
       "  <thead>\n",
       "    <tr style=\"text-align: right;\">\n",
       "      <th></th>\n",
       "      <th>unique_id</th>\n",
       "      <th>ds</th>\n",
       "      <th>y</th>\n",
       "    </tr>\n",
       "  </thead>\n",
       "  <tbody>\n",
       "    <tr>\n",
       "      <th>0</th>\n",
       "      <td>0</td>\n",
       "      <td>2011-01-31</td>\n",
       "      <td>88163</td>\n",
       "    </tr>\n",
       "    <tr>\n",
       "      <th>1</th>\n",
       "      <td>0</td>\n",
       "      <td>2011-02-28</td>\n",
       "      <td>726375</td>\n",
       "    </tr>\n",
       "    <tr>\n",
       "      <th>2</th>\n",
       "      <td>0</td>\n",
       "      <td>2011-03-31</td>\n",
       "      <td>763567</td>\n",
       "    </tr>\n",
       "    <tr>\n",
       "      <th>3</th>\n",
       "      <td>0</td>\n",
       "      <td>2011-04-30</td>\n",
       "      <td>737713</td>\n",
       "    </tr>\n",
       "    <tr>\n",
       "      <th>4</th>\n",
       "      <td>0</td>\n",
       "      <td>2011-05-31</td>\n",
       "      <td>719562</td>\n",
       "    </tr>\n",
       "    <tr>\n",
       "      <th>...</th>\n",
       "      <td>...</td>\n",
       "      <td>...</td>\n",
       "      <td>...</td>\n",
       "    </tr>\n",
       "    <tr>\n",
       "      <th>60</th>\n",
       "      <td>0</td>\n",
       "      <td>2016-01-31</td>\n",
       "      <td>1215286</td>\n",
       "    </tr>\n",
       "    <tr>\n",
       "      <th>61</th>\n",
       "      <td>0</td>\n",
       "      <td>2016-02-29</td>\n",
       "      <td>1212927</td>\n",
       "    </tr>\n",
       "    <tr>\n",
       "      <th>62</th>\n",
       "      <td>0</td>\n",
       "      <td>2016-03-31</td>\n",
       "      <td>1275746</td>\n",
       "    </tr>\n",
       "    <tr>\n",
       "      <th>63</th>\n",
       "      <td>0</td>\n",
       "      <td>2016-04-30</td>\n",
       "      <td>1283470</td>\n",
       "    </tr>\n",
       "    <tr>\n",
       "      <th>64</th>\n",
       "      <td>0</td>\n",
       "      <td>2016-05-31</td>\n",
       "      <td>994982</td>\n",
       "    </tr>\n",
       "  </tbody>\n",
       "</table>\n",
       "<p>65 rows × 3 columns</p>\n",
       "</div>"
      ],
      "text/plain": [
       "   unique_id         ds        y\n",
       "0          0 2011-01-31    88163\n",
       "1          0 2011-02-28   726375\n",
       "2          0 2011-03-31   763567\n",
       "3          0 2011-04-30   737713\n",
       "4          0 2011-05-31   719562\n",
       "..       ...        ...      ...\n",
       "60         0 2016-01-31  1215286\n",
       "61         0 2016-02-29  1212927\n",
       "62         0 2016-03-31  1275746\n",
       "63         0 2016-04-30  1283470\n",
       "64         0 2016-05-31   994982\n",
       "\n",
       "[65 rows x 3 columns]"
      ]
     },
     "execution_count": 25,
     "metadata": {},
     "output_type": "execute_result"
    }
   ],
   "source": [
    "df_nixtla_vendas_totais"
   ]
  },
  {
   "cell_type": "code",
   "execution_count": 26,
   "metadata": {
    "id": "rW5doZ5pr0i4",
    "tags": []
   },
   "outputs": [],
   "source": [
    "df_nixtla_vendas_totais['ds'] = pd.to_datetime(df_nixtla_vendas_totais['ds'])"
   ]
  },
  {
   "cell_type": "code",
   "execution_count": 27,
   "metadata": {
    "colab": {
     "base_uri": "https://localhost:8080/"
    },
    "id": "qQQ1Gahtr0i5",
    "outputId": "8c1d9ecc-ef5c-4548-e031-999aadce8c46",
    "tags": []
   },
   "outputs": [
    {
     "data": {
      "text/plain": [
       "65"
      ]
     },
     "execution_count": 27,
     "metadata": {},
     "output_type": "execute_result"
    }
   ],
   "source": [
    "df_nixtla_vendas_totais['unique_id'].value_counts().sum()"
   ]
  },
  {
   "cell_type": "code",
   "execution_count": 28,
   "metadata": {
    "id": "EwjP6LxQr0i5",
    "tags": []
   },
   "outputs": [],
   "source": [
    "df_test = df_nixtla_vendas_totais.groupby('unique_id').tail(6)\n",
    "df_train = df_nixtla_vendas_totais.drop(df_test.index)"
   ]
  },
  {
   "cell_type": "code",
   "execution_count": 29,
   "metadata": {
    "colab": {
     "base_uri": "https://localhost:8080/",
     "height": 370
    },
    "id": "5QI_PXGNr0i5",
    "outputId": "4bc4b98c-9d1c-4085-d80f-749e40415c22",
    "tags": []
   },
   "outputs": [
    {
     "data": {
      "image/png": "[encoded data removed]",
      "text/plain": [
       "<Figure size 1600x1000 with 2 Axes>"
      ]
     },
     "metadata": {},
     "output_type": "display_data"
    }
   ],
   "source": [
    "acf_pacf(df_train['y'], 20)"
   ]
  },
  {
   "cell_type": "code",
   "execution_count": 30,
   "metadata": {
    "tags": []
   },
   "outputs": [],
   "source": [
    "class Naive(BaseEstimator):\n",
    "    def fit(self, X, y):\n",
    "        return self\n",
    "\n",
    "    def predict(self, X):\n",
    "        return X['lag1']"
   ]
  },
  {
   "cell_type": "code",
   "execution_count": 31,
   "metadata": {
    "id": "TXantELqr0i6",
    "tags": []
   },
   "outputs": [],
   "source": [
    "models = {\n",
    "    'RandomForestRegressor': RandomForestRegressor(),\n",
    "    'LinearRegression': LinearRegression(),\n",
    "    'MLPRegressor': MLPRegressor(),\n",
    "    'KNeighborsRegressor': KNeighborsRegressor(),\n",
    "    'XGBRegressor': XGBRegressor(),\n",
    "    'LGBMRegressor': lgb.LGBMRegressor(),\n",
    "    'Naive': Naive()\n",
    "}"
   ]
  },
  {
   "cell_type": "code",
   "execution_count": 32,
   "metadata": {
    "id": "o_RN6F-5r0i6",
    "tags": []
   },
   "outputs": [],
   "source": [
    "fcst = MLForecast(\n",
    "    models=models,\n",
    "    freq='M',\n",
    "    lags=[1, 2],\n",
    ")"
   ]
  },
  {
   "cell_type": "code",
   "execution_count": 33,
   "metadata": {
    "colab": {
     "base_uri": "https://localhost:8080/"
    },
    "id": "0GWsx77Wr0i6",
    "outputId": "296e3ff5-7d06-47db-86a7-c77611f3b620",
    "tags": []
   },
   "outputs": [
    {
     "name": "stdout",
     "output_type": "stream",
     "text": [
      "[LightGBM] [Info] Auto-choosing col-wise multi-threading, the overhead of testing was 0.000808 seconds.\n",
      "You can set `force_col_wise=true` to remove the overhead.\n",
      "[LightGBM] [Info] Total Bins 40\n",
      "[LightGBM] [Info] Number of data points in the train set: 57, number of used features: 2\n",
      "[LightGBM] [Info] Start training from score 1035157.684211\n",
      "[LightGBM] [Warning] No further splits with positive gain, best gain: -inf\n",
      "[LightGBM] [Warning] No further splits with positive gain, best gain: -inf\n",
      "[LightGBM] [Warning] No further splits with positive gain, best gain: -inf\n",
      "[LightGBM] [Warning] No further splits with positive gain, best gain: -inf\n",
      "[LightGBM] [Warning] No further splits with positive gain, best gain: -inf\n",
      "[LightGBM] [Warning] No further splits with positive gain, best gain: -inf\n",
      "[LightGBM] [Warning] No further splits with positive gain, best gain: -inf\n",
      "[LightGBM] [Warning] No further splits with positive gain, best gain: -inf\n",
      "[LightGBM] [Warning] No further splits with positive gain, best gain: -inf\n",
      "[LightGBM] [Warning] No further splits with positive gain, best gain: -inf\n",
      "[LightGBM] [Warning] No further splits with positive gain, best gain: -inf\n",
      "[LightGBM] [Warning] No further splits with positive gain, best gain: -inf\n",
      "[LightGBM] [Warning] No further splits with positive gain, best gain: -inf\n",
      "[LightGBM] [Warning] No further splits with positive gain, best gain: -inf\n",
      "[LightGBM] [Warning] No further splits with positive gain, best gain: -inf\n",
      "[LightGBM] [Warning] No further splits with positive gain, best gain: -inf\n",
      "[LightGBM] [Warning] No further splits with positive gain, best gain: -inf\n",
      "[LightGBM] [Warning] No further splits with positive gain, best gain: -inf\n",
      "[LightGBM] [Warning] No further splits with positive gain, best gain: -inf\n",
      "[LightGBM] [Warning] No further splits with positive gain, best gain: -inf\n",
      "[LightGBM] [Warning] No further splits with positive gain, best gain: -inf\n",
      "[LightGBM] [Warning] No further splits with positive gain, best gain: -inf\n",
      "[LightGBM] [Warning] No further splits with positive gain, best gain: -inf\n",
      "[LightGBM] [Warning] No further splits with positive gain, best gain: -inf\n",
      "[LightGBM] [Warning] No further splits with positive gain, best gain: -inf\n",
      "[LightGBM] [Warning] No further splits with positive gain, best gain: -inf\n",
      "[LightGBM] [Warning] No further splits with positive gain, best gain: -inf\n",
      "[LightGBM] [Warning] No further splits with positive gain, best gain: -inf\n",
      "[LightGBM] [Warning] No further splits with positive gain, best gain: -inf\n",
      "[LightGBM] [Warning] No further splits with positive gain, best gain: -inf\n",
      "[LightGBM] [Warning] No further splits with positive gain, best gain: -inf\n",
      "[LightGBM] [Warning] No further splits with positive gain, best gain: -inf\n",
      "[LightGBM] [Warning] No further splits with positive gain, best gain: -inf\n",
      "[LightGBM] [Warning] No further splits with positive gain, best gain: -inf\n",
      "[LightGBM] [Warning] No further splits with positive gain, best gain: -inf\n",
      "[LightGBM] [Warning] No further splits with positive gain, best gain: -inf\n",
      "[LightGBM] [Warning] No further splits with positive gain, best gain: -inf\n",
      "[LightGBM] [Warning] No further splits with positive gain, best gain: -inf\n",
      "[LightGBM] [Warning] No further splits with positive gain, best gain: -inf\n",
      "[LightGBM] [Warning] No further splits with positive gain, best gain: -inf\n",
      "[LightGBM] [Warning] No further splits with positive gain, best gain: -inf\n",
      "[LightGBM] [Warning] No further splits with positive gain, best gain: -inf\n",
      "[LightGBM] [Warning] No further splits with positive gain, best gain: -inf\n",
      "[LightGBM] [Warning] No further splits with positive gain, best gain: -inf\n",
      "[LightGBM] [Warning] No further splits with positive gain, best gain: -inf\n",
      "[LightGBM] [Warning] No further splits with positive gain, best gain: -inf\n",
      "[LightGBM] [Warning] No further splits with positive gain, best gain: -inf\n",
      "[LightGBM] [Warning] No further splits with positive gain, best gain: -inf\n",
      "[LightGBM] [Warning] No further splits with positive gain, best gain: -inf\n",
      "[LightGBM] [Warning] No further splits with positive gain, best gain: -inf\n",
      "[LightGBM] [Warning] No further splits with positive gain, best gain: -inf\n",
      "[LightGBM] [Warning] No further splits with positive gain, best gain: -inf\n",
      "[LightGBM] [Warning] No further splits with positive gain, best gain: -inf\n",
      "[LightGBM] [Warning] No further splits with positive gain, best gain: -inf\n",
      "[LightGBM] [Warning] No further splits with positive gain, best gain: -inf\n",
      "[LightGBM] [Warning] No further splits with positive gain, best gain: -inf\n",
      "[LightGBM] [Warning] No further splits with positive gain, best gain: -inf\n",
      "[LightGBM] [Warning] No further splits with positive gain, best gain: -inf\n",
      "[LightGBM] [Warning] No further splits with positive gain, best gain: -inf\n",
      "[LightGBM] [Warning] No further splits with positive gain, best gain: -inf\n",
      "[LightGBM] [Warning] No further splits with positive gain, best gain: -inf\n",
      "[LightGBM] [Warning] No further splits with positive gain, best gain: -inf\n",
      "[LightGBM] [Warning] No further splits with positive gain, best gain: -inf\n",
      "[LightGBM] [Warning] No further splits with positive gain, best gain: -inf\n",
      "[LightGBM] [Warning] No further splits with positive gain, best gain: -inf\n",
      "[LightGBM] [Warning] No further splits with positive gain, best gain: -inf\n",
      "[LightGBM] [Warning] No further splits with positive gain, best gain: -inf\n",
      "[LightGBM] [Warning] No further splits with positive gain, best gain: -inf\n",
      "[LightGBM] [Warning] No further splits with positive gain, best gain: -inf\n",
      "[LightGBM] [Warning] No further splits with positive gain, best gain: -inf\n",
      "[LightGBM] [Warning] No further splits with positive gain, best gain: -inf\n",
      "[LightGBM] [Warning] No further splits with positive gain, best gain: -inf\n",
      "[LightGBM] [Warning] No further splits with positive gain, best gain: -inf\n",
      "[LightGBM] [Warning] No further splits with positive gain, best gain: -inf\n",
      "[LightGBM] [Warning] No further splits with positive gain, best gain: -inf\n",
      "[LightGBM] [Warning] No further splits with positive gain, best gain: -inf\n",
      "[LightGBM] [Warning] No further splits with positive gain, best gain: -inf\n",
      "[LightGBM] [Warning] No further splits with positive gain, best gain: -inf\n",
      "[LightGBM] [Warning] No further splits with positive gain, best gain: -inf\n",
      "[LightGBM] [Warning] No further splits with positive gain, best gain: -inf\n",
      "[LightGBM] [Warning] No further splits with positive gain, best gain: -inf\n",
      "[LightGBM] [Warning] No further splits with positive gain, best gain: -inf\n",
      "[LightGBM] [Warning] No further splits with positive gain, best gain: -inf\n",
      "[LightGBM] [Warning] No further splits with positive gain, best gain: -inf\n",
      "[LightGBM] [Warning] No further splits with positive gain, best gain: -inf\n",
      "[LightGBM] [Warning] No further splits with positive gain, best gain: -inf\n",
      "[LightGBM] [Warning] No further splits with positive gain, best gain: -inf\n",
      "[LightGBM] [Warning] No further splits with positive gain, best gain: -inf\n",
      "[LightGBM] [Warning] No further splits with positive gain, best gain: -inf\n",
      "[LightGBM] [Warning] No further splits with positive gain, best gain: -inf\n",
      "[LightGBM] [Warning] No further splits with positive gain, best gain: -inf\n",
      "[LightGBM] [Warning] No further splits with positive gain, best gain: -inf\n",
      "[LightGBM] [Warning] No further splits with positive gain, best gain: -inf\n",
      "[LightGBM] [Warning] No further splits with positive gain, best gain: -inf\n",
      "[LightGBM] [Warning] No further splits with positive gain, best gain: -inf\n",
      "[LightGBM] [Warning] No further splits with positive gain, best gain: -inf\n",
      "[LightGBM] [Warning] No further splits with positive gain, best gain: -inf\n",
      "[LightGBM] [Warning] No further splits with positive gain, best gain: -inf\n",
      "[LightGBM] [Warning] No further splits with positive gain, best gain: -inf\n",
      "[LightGBM] [Warning] No further splits with positive gain, best gain: -inf\n"
     ]
    },
    {
     "data": {
      "text/plain": [
       "MLForecast(models=[RandomForestRegressor, LinearRegression, MLPRegressor, KNeighborsRegressor, XGBRegressor, LGBMRegressor, Naive], freq=M, lag_features=['lag1', 'lag2'], date_features=[], num_threads=1)"
      ]
     },
     "execution_count": 33,
     "metadata": {},
     "output_type": "execute_result"
    }
   ],
   "source": [
    "fcst.fit(df_train, id_col='unique_id', time_col='ds', target_col='y')"
   ]
  },
  {
   "cell_type": "code",
   "execution_count": 34,
   "metadata": {
    "colab": {
     "base_uri": "https://localhost:8080/"
    },
    "id": "qNfVnPYir0i6",
    "outputId": "89a349cd-a6c2-4717-c18b-284a609afed0",
    "tags": []
   },
   "outputs": [
    {
     "data": {
      "text/plain": [
       "6"
      ]
     },
     "execution_count": 34,
     "metadata": {},
     "output_type": "execute_result"
    }
   ],
   "source": [
    "len(df_test)"
   ]
  },
  {
   "cell_type": "code",
   "execution_count": 35,
   "metadata": {
    "tags": []
   },
   "outputs": [],
   "source": [
    "predict = fcst.predict(6)"
   ]
  },
  {
   "cell_type": "code",
   "execution_count": 36,
   "metadata": {
    "colab": {
     "base_uri": "https://localhost:8080/",
     "height": 237
    },
    "id": "sdXFlphpr0i6",
    "outputId": "10882621-38ea-4608-c0bf-1ced4077f27b",
    "tags": []
   },
   "outputs": [],
   "source": [
    "for i in list(models.keys()):\n",
    "  predict[i] = predict[i].astype(int)"
   ]
  },
  {
   "cell_type": "code",
   "execution_count": 37,
   "metadata": {
    "tags": []
   },
   "outputs": [
    {
     "data": {
      "image/png": "[encoded data removed]",
      "text/plain": [
       "<Figure size 2400x350 with 1 Axes>"
      ]
     },
     "execution_count": 37,
     "metadata": {},
     "output_type": "execute_result"
    }
   ],
   "source": [
    "plot_series(df_test, predict, plot_random=False)"
   ]
  },
  {
   "cell_type": "code",
   "execution_count": 38,
   "metadata": {
    "colab": {
     "base_uri": "https://localhost:8080/"
    },
    "id": "q1YyISrer0i6",
    "outputId": "d972a42b-0196-4f76-ef20-39c183971d9e",
    "tags": []
   },
   "outputs": [
    {
     "name": "stdout",
     "output_type": "stream",
     "text": [
      "------------------RandomForestRegressor-----------------\n",
      "Mean Absolute Error: 124342.5\n",
      "Mean absolute percentage error: 0.10277900623139785\n",
      "Root mean squared error: 137011.8025919665\n",
      "R2: -0.9029744726566178\n",
      "\n",
      "\n",
      "------------------LinearRegression-----------------\n",
      "Mean Absolute Error: 106949.0\n",
      "Mean absolute percentage error: 0.08921475239886195\n",
      "Root mean squared error: 120615.67414035928\n",
      "R2: -0.4747706951655395\n",
      "\n",
      "\n",
      "------------------MLPRegressor-----------------\n",
      "Mean Absolute Error: 86520.0\n",
      "Mean absolute percentage error: 0.0824427833523464\n",
      "Root mean squared error: 146732.7971234334\n",
      "R2: -1.182586150618297\n",
      "\n",
      "\n",
      "------------------KNeighborsRegressor-----------------\n",
      "Mean Absolute Error: 79623.5\n",
      "Mean absolute percentage error: 0.0684737729461776\n",
      "Root mean squared error: 97637.53976399993\n",
      "R2: 0.03361393798664081\n",
      "\n",
      "\n",
      "------------------XGBRegressor-----------------\n",
      "Mean Absolute Error: 108024.33333333333\n",
      "Mean absolute percentage error: 0.08858208300464653\n",
      "Root mean squared error: 123280.9274651463\n",
      "R2: -0.5406670277652279\n",
      "\n",
      "\n",
      "------------------LGBMRegressor-----------------\n",
      "Mean Absolute Error: 95001.5\n",
      "Mean absolute percentage error: 0.08126015743982613\n",
      "Root mean squared error: 105875.5189463866\n",
      "R2: -0.13633950767099567\n",
      "\n",
      "\n",
      "------------------Naive-----------------\n",
      "Mean Absolute Error: 110463.16666666667\n",
      "Mean absolute percentage error: 0.09238113308869261\n",
      "Root mean squared error: 121971.74882802437\n",
      "R2: -0.5081186260500108\n",
      "\n",
      "\n"
     ]
    }
   ],
   "source": [
    "for i in list(models.keys()):\n",
    "  print(f'------------------{i}-----------------')\n",
    "  MAE = mean_absolute_error(df_test['y'], predict[i])\n",
    "  print(f'Mean Absolute Error: {MAE}')\n",
    "\n",
    "  MAPE = mean_absolute_percentage_error(df_test['y'], predict[i])\n",
    "  print(f'Mean absolute percentage error: {MAPE}')\n",
    "\n",
    "  RMSE = sqrt(mean_squared_error(df_test['y'], predict[i]))\n",
    "  print(f'Root mean squared error: {RMSE}')\n",
    "\n",
    "  R2 = r2_score(df_test['y'], predict[i])\n",
    "  print(f'R2: {R2}')\n",
    "  print('\\n')"
   ]
  },
  {
   "cell_type": "code",
   "execution_count": 39,
   "metadata": {
    "tags": []
   },
   "outputs": [
    {
     "data": {
      "image/png": "[encoded data removed]",
      "text/plain": [
       "<Figure size 2400x350 with 1 Axes>"
      ]
     },
     "execution_count": 39,
     "metadata": {},
     "output_type": "execute_result"
    }
   ],
   "source": [
    "plot_series(df_test, predict[['unique_id', 'ds', 'MLPRegressor']], plot_random=False)"
   ]
  },
  {
   "cell_type": "code",
   "execution_count": 40,
   "metadata": {
    "colab": {
     "base_uri": "https://localhost:8080/",
     "height": 206
    },
    "id": "FwcMtMyvr0i7",
    "outputId": "881ce749-2cfa-4b71-ae6d-b90d775efde1",
    "tags": []
   },
   "outputs": [
    {
     "data": {
      "text/html": [
       "<div>\n",
       "<style scoped>\n",
       "    .dataframe tbody tr th:only-of-type {\n",
       "        vertical-align: middle;\n",
       "    }\n",
       "\n",
       "    .dataframe tbody tr th {\n",
       "        vertical-align: top;\n",
       "    }\n",
       "\n",
       "    .dataframe thead th {\n",
       "        text-align: right;\n",
       "    }\n",
       "</style>\n",
       "<table border=\"1\" class=\"dataframe\">\n",
       "  <thead>\n",
       "    <tr style=\"text-align: right;\">\n",
       "      <th></th>\n",
       "      <th>unique_id</th>\n",
       "      <th>ds</th>\n",
       "      <th>y</th>\n",
       "      <th>RandomForestRegressor</th>\n",
       "      <th>LinearRegression</th>\n",
       "      <th>MLPRegressor</th>\n",
       "      <th>KNeighborsRegressor</th>\n",
       "      <th>XGBRegressor</th>\n",
       "      <th>LGBMRegressor</th>\n",
       "      <th>Naive</th>\n",
       "    </tr>\n",
       "  </thead>\n",
       "  <tbody>\n",
       "    <tr>\n",
       "      <th>0</th>\n",
       "      <td>0</td>\n",
       "      <td>2015-12-31</td>\n",
       "      <td>1126236</td>\n",
       "      <td>1098295</td>\n",
       "      <td>1124766</td>\n",
       "      <td>1223801</td>\n",
       "      <td>1150596</td>\n",
       "      <td>1105139</td>\n",
       "      <td>1148101</td>\n",
       "      <td>1113976</td>\n",
       "    </tr>\n",
       "    <tr>\n",
       "      <th>1</th>\n",
       "      <td>0</td>\n",
       "      <td>2016-01-31</td>\n",
       "      <td>1215286</td>\n",
       "      <td>1101479</td>\n",
       "      <td>1119558</td>\n",
       "      <td>1208454</td>\n",
       "      <td>1187225</td>\n",
       "      <td>1097290</td>\n",
       "      <td>1148101</td>\n",
       "      <td>1113976</td>\n",
       "    </tr>\n",
       "    <tr>\n",
       "      <th>2</th>\n",
       "      <td>0</td>\n",
       "      <td>2016-02-29</td>\n",
       "      <td>1212927</td>\n",
       "      <td>1085954</td>\n",
       "      <td>1116653</td>\n",
       "      <td>1258455</td>\n",
       "      <td>1189246</td>\n",
       "      <td>1130670</td>\n",
       "      <td>1148101</td>\n",
       "      <td>1113976</td>\n",
       "    </tr>\n",
       "    <tr>\n",
       "      <th>3</th>\n",
       "      <td>0</td>\n",
       "      <td>2016-03-31</td>\n",
       "      <td>1275746</td>\n",
       "      <td>1086900</td>\n",
       "      <td>1113907</td>\n",
       "      <td>1275177</td>\n",
       "      <td>1173188</td>\n",
       "      <td>1086711</td>\n",
       "      <td>1148101</td>\n",
       "      <td>1113976</td>\n",
       "    </tr>\n",
       "    <tr>\n",
       "      <th>4</th>\n",
       "      <td>0</td>\n",
       "      <td>2016-04-30</td>\n",
       "      <td>1283470</td>\n",
       "      <td>1086771</td>\n",
       "      <td>1111515</td>\n",
       "      <td>1310300</td>\n",
       "      <td>1131279</td>\n",
       "      <td>1109565</td>\n",
       "      <td>1148101</td>\n",
       "      <td>1113976</td>\n",
       "    </tr>\n",
       "  </tbody>\n",
       "</table>\n",
       "</div>"
      ],
      "text/plain": [
       "  unique_id         ds        y  RandomForestRegressor  LinearRegression  \\\n",
       "0         0 2015-12-31  1126236                1098295           1124766   \n",
       "1         0 2016-01-31  1215286                1101479           1119558   \n",
       "2         0 2016-02-29  1212927                1085954           1116653   \n",
       "3         0 2016-03-31  1275746                1086900           1113907   \n",
       "4         0 2016-04-30  1283470                1086771           1111515   \n",
       "\n",
       "   MLPRegressor  KNeighborsRegressor  XGBRegressor  LGBMRegressor    Naive  \n",
       "0       1223801              1150596       1105139        1148101  1113976  \n",
       "1       1208454              1187225       1097290        1148101  1113976  \n",
       "2       1258455              1189246       1130670        1148101  1113976  \n",
       "3       1275177              1173188       1086711        1148101  1113976  \n",
       "4       1310300              1131279       1109565        1148101  1113976  "
      ]
     },
     "execution_count": 40,
     "metadata": {},
     "output_type": "execute_result"
    }
   ],
   "source": [
    "metrics = [mae, rmse, mape]\n",
    "\n",
    "previsao = df_test.merge(predict, how='right', on=['unique_id', 'ds'])\n",
    "previsao.head()"
   ]
  },
  {
   "cell_type": "code",
   "execution_count": 41,
   "metadata": {
    "id": "if8plahi3rn0",
    "tags": []
   },
   "outputs": [],
   "source": [
    "previsao.to_csv('treinamento/treino_vendas_totais_treino.csv')"
   ]
  },
  {
   "cell_type": "code",
   "execution_count": 42,
   "metadata": {
    "id": "fL81aXCSr0i7",
    "tags": []
   },
   "outputs": [],
   "source": [
    "models = {\n",
    "    'RandomForestRegressor': RandomForestRegressor(),\n",
    "    'LinearRegression': LinearRegression(),\n",
    "    'MLPRegressor': MLPRegressor(),\n",
    "    'KNeighborsRegressor': KNeighborsRegressor(),\n",
    "    'XGBRegressor': XGBRegressor(),\n",
    "    'LGBMRegressor': lgb.LGBMRegressor()\n",
    "}\n",
    "\n",
    "result_metrics = evaluate(\n",
    "    df = previsao,\n",
    "    metrics=metrics,\n",
    "    models=list(models.keys()))\n"
   ]
  },
  {
   "cell_type": "code",
   "execution_count": 43,
   "metadata": {
    "id": "F2wtkF2Nr0i7",
    "tags": []
   },
   "outputs": [],
   "source": [
    "df_pivot = result_metrics.pivot(index='unique_id', columns='metric')\n",
    "df_pivot.columns = [f'{col[1]}{col[0]}' for col in df_pivot.columns]\n",
    "df_pivot.reset_index(inplace=True)"
   ]
  },
  {
   "cell_type": "code",
   "execution_count": 44,
   "metadata": {
    "colab": {
     "base_uri": "https://localhost:8080/",
     "height": 109
    },
    "id": "d9z5UN70r0i7",
    "outputId": "9a3a5f6b-4583-4f9b-827d-0d189d337c6d",
    "tags": []
   },
   "outputs": [
    {
     "data": {
      "text/html": [
       "<div>\n",
       "<style scoped>\n",
       "    .dataframe tbody tr th:only-of-type {\n",
       "        vertical-align: middle;\n",
       "    }\n",
       "\n",
       "    .dataframe tbody tr th {\n",
       "        vertical-align: top;\n",
       "    }\n",
       "\n",
       "    .dataframe thead th {\n",
       "        text-align: right;\n",
       "    }\n",
       "</style>\n",
       "<table border=\"1\" class=\"dataframe\">\n",
       "  <thead>\n",
       "    <tr style=\"text-align: right;\">\n",
       "      <th></th>\n",
       "      <th>unique_id</th>\n",
       "      <th>maeRandomForestRegressor</th>\n",
       "      <th>mapeRandomForestRegressor</th>\n",
       "      <th>rmseRandomForestRegressor</th>\n",
       "      <th>maeLinearRegression</th>\n",
       "      <th>mapeLinearRegression</th>\n",
       "      <th>rmseLinearRegression</th>\n",
       "      <th>maeMLPRegressor</th>\n",
       "      <th>mapeMLPRegressor</th>\n",
       "      <th>rmseMLPRegressor</th>\n",
       "      <th>maeKNeighborsRegressor</th>\n",
       "      <th>mapeKNeighborsRegressor</th>\n",
       "      <th>rmseKNeighborsRegressor</th>\n",
       "      <th>maeXGBRegressor</th>\n",
       "      <th>mapeXGBRegressor</th>\n",
       "      <th>rmseXGBRegressor</th>\n",
       "      <th>maeLGBMRegressor</th>\n",
       "      <th>mapeLGBMRegressor</th>\n",
       "      <th>rmseLGBMRegressor</th>\n",
       "    </tr>\n",
       "  </thead>\n",
       "  <tbody>\n",
       "    <tr>\n",
       "      <th>0</th>\n",
       "      <td>0</td>\n",
       "      <td>124342.5</td>\n",
       "      <td>0.102779</td>\n",
       "      <td>137011.802592</td>\n",
       "      <td>106949.0</td>\n",
       "      <td>0.089215</td>\n",
       "      <td>120615.67414</td>\n",
       "      <td>86520.0</td>\n",
       "      <td>0.082443</td>\n",
       "      <td>146732.797123</td>\n",
       "      <td>79623.5</td>\n",
       "      <td>0.068474</td>\n",
       "      <td>97637.539764</td>\n",
       "      <td>108024.333333</td>\n",
       "      <td>0.088582</td>\n",
       "      <td>123280.927465</td>\n",
       "      <td>95001.5</td>\n",
       "      <td>0.08126</td>\n",
       "      <td>105875.518946</td>\n",
       "    </tr>\n",
       "  </tbody>\n",
       "</table>\n",
       "</div>"
      ],
      "text/plain": [
       "  unique_id  maeRandomForestRegressor  mapeRandomForestRegressor  \\\n",
       "0         0                  124342.5                   0.102779   \n",
       "\n",
       "   rmseRandomForestRegressor  maeLinearRegression  mapeLinearRegression  \\\n",
       "0              137011.802592             106949.0              0.089215   \n",
       "\n",
       "   rmseLinearRegression  maeMLPRegressor  mapeMLPRegressor  rmseMLPRegressor  \\\n",
       "0          120615.67414          86520.0          0.082443     146732.797123   \n",
       "\n",
       "   maeKNeighborsRegressor  mapeKNeighborsRegressor  rmseKNeighborsRegressor  \\\n",
       "0                 79623.5                 0.068474             97637.539764   \n",
       "\n",
       "   maeXGBRegressor  mapeXGBRegressor  rmseXGBRegressor  maeLGBMRegressor  \\\n",
       "0    108024.333333          0.088582     123280.927465           95001.5   \n",
       "\n",
       "   mapeLGBMRegressor  rmseLGBMRegressor  \n",
       "0            0.08126      105875.518946  "
      ]
     },
     "execution_count": 44,
     "metadata": {},
     "output_type": "execute_result"
    }
   ],
   "source": [
    "df_pivot"
   ]
  },
  {
   "cell_type": "code",
   "execution_count": 45,
   "metadata": {
    "colab": {
     "base_uri": "https://localhost:8080/"
    },
    "id": "5UnpLi60r0i7",
    "outputId": "a42a260f-ee76-4bcb-c0f5-e0fa4533788d",
    "tags": []
   },
   "outputs": [
    {
     "name": "stdout",
     "output_type": "stream",
     "text": [
      "mae\n",
      "KNeighborsRegressor    1\n",
      "Name: count, dtype: int64\n",
      "mape\n",
      "KNeighborsRegressor    1\n",
      "Name: count, dtype: int64\n",
      "rmse\n",
      "KNeighborsRegressor    1\n",
      "Name: count, dtype: int64\n"
     ]
    }
   ],
   "source": [
    "best_models = {}\n",
    "\n",
    "for metric in ['mae', 'mape', 'rmse']:\n",
    "    best_models[metric] = []\n",
    "    for idx, row in df_pivot.iterrows():\n",
    "        min_value = float('inf')\n",
    "        best_model = None\n",
    "        for model in models:\n",
    "            column_name = f'{metric}{model}'\n",
    "            if row[column_name] < min_value:\n",
    "                min_value = row[column_name]\n",
    "                best_model = model\n",
    "        best_models[metric].append(best_model)\n",
    "\n",
    "best_models_df_pivot = pd.DataFrame(best_models)\n",
    "best_models_df_pivot['unique_id'] = df_pivot['unique_id']\n",
    "\n",
    "for i in ['mae', 'mape', 'rmse']:\n",
    "  print(best_models_df_pivot[i].value_counts())"
   ]
  },
  {
   "cell_type": "markdown",
   "metadata": {
    "id": "ilFsNKaCr0i7"
   },
   "source": [
    "#### Treinando o melhor modelo"
   ]
  },
  {
   "cell_type": "code",
   "execution_count": 46,
   "metadata": {
    "id": "MzxKzLZ9r0i8",
    "tags": []
   },
   "outputs": [],
   "source": [
    "models = {\n",
    "    'MLPRegressor' : MLPRegressor()\n",
    "}\n",
    "\n",
    "fcst = MLForecast(\n",
    "    models=models,\n",
    "    freq='MS',\n",
    "    lags=[1, 6, 12]\n",
    ")\n"
   ]
  },
  {
   "cell_type": "code",
   "execution_count": 47,
   "metadata": {
    "colab": {
     "base_uri": "https://localhost:8080/"
    },
    "id": "nNbiyQLAr0i8",
    "outputId": "614c0856-596b-484a-96b1-6881bbfea2b5",
    "tags": []
   },
   "outputs": [
    {
     "data": {
      "text/plain": [
       "MLForecast(models=[MLPRegressor], freq=MS, lag_features=['lag1', 'lag6', 'lag12'], date_features=[], num_threads=1)"
      ]
     },
     "execution_count": 47,
     "metadata": {},
     "output_type": "execute_result"
    }
   ],
   "source": [
    "dados_full = pd.concat([df_train, df_test])\n",
    "fcst.fit(dados_full)"
   ]
  },
  {
   "cell_type": "markdown",
   "metadata": {},
   "source": [
    "#### caso deseje importar o modelo, faça o download com o picke"
   ]
  },
  {
   "cell_type": "code",
   "execution_count": 48,
   "metadata": {
    "id": "zFSSkGCr3x9B",
    "tags": []
   },
   "outputs": [],
   "source": [
    "with open('Modelos/modelo_previsao_todas_vendas.pkl', 'wb') as file:\n",
    "    pickle.dump(fcst, file)"
   ]
  },
  {
   "cell_type": "code",
   "execution_count": 49,
   "metadata": {
    "colab": {
     "base_uri": "https://localhost:8080/",
     "height": 237
    },
    "id": "optIkX6cr0i8",
    "outputId": "b2e26d2f-3ac1-4cfc-8535-db98c7d65b45",
    "tags": []
   },
   "outputs": [
    {
     "data": {
      "text/html": [
       "<div>\n",
       "<style scoped>\n",
       "    .dataframe tbody tr th:only-of-type {\n",
       "        vertical-align: middle;\n",
       "    }\n",
       "\n",
       "    .dataframe tbody tr th {\n",
       "        vertical-align: top;\n",
       "    }\n",
       "\n",
       "    .dataframe thead th {\n",
       "        text-align: right;\n",
       "    }\n",
       "</style>\n",
       "<table border=\"1\" class=\"dataframe\">\n",
       "  <thead>\n",
       "    <tr style=\"text-align: right;\">\n",
       "      <th></th>\n",
       "      <th>unique_id</th>\n",
       "      <th>ds</th>\n",
       "      <th>MLPRegressor</th>\n",
       "    </tr>\n",
       "  </thead>\n",
       "  <tbody>\n",
       "    <tr>\n",
       "      <th>0</th>\n",
       "      <td>0</td>\n",
       "      <td>2016-06-01</td>\n",
       "      <td>1182327</td>\n",
       "    </tr>\n",
       "    <tr>\n",
       "      <th>1</th>\n",
       "      <td>0</td>\n",
       "      <td>2016-07-01</td>\n",
       "      <td>1330511</td>\n",
       "    </tr>\n",
       "    <tr>\n",
       "      <th>2</th>\n",
       "      <td>0</td>\n",
       "      <td>2016-08-01</td>\n",
       "      <td>1422417</td>\n",
       "    </tr>\n",
       "    <tr>\n",
       "      <th>3</th>\n",
       "      <td>0</td>\n",
       "      <td>2016-09-01</td>\n",
       "      <td>1452857</td>\n",
       "    </tr>\n",
       "    <tr>\n",
       "      <th>4</th>\n",
       "      <td>0</td>\n",
       "      <td>2016-10-01</td>\n",
       "      <td>1497551</td>\n",
       "    </tr>\n",
       "    <tr>\n",
       "      <th>5</th>\n",
       "      <td>0</td>\n",
       "      <td>2016-11-01</td>\n",
       "      <td>1416673</td>\n",
       "    </tr>\n",
       "  </tbody>\n",
       "</table>\n",
       "</div>"
      ],
      "text/plain": [
       "  unique_id         ds  MLPRegressor\n",
       "0         0 2016-06-01       1182327\n",
       "1         0 2016-07-01       1330511\n",
       "2         0 2016-08-01       1422417\n",
       "3         0 2016-09-01       1452857\n",
       "4         0 2016-10-01       1497551\n",
       "5         0 2016-11-01       1416673"
      ]
     },
     "execution_count": 49,
     "metadata": {},
     "output_type": "execute_result"
    }
   ],
   "source": [
    "previsao = fcst.predict(6)\n",
    "previsao['MLPRegressor'] = previsao['MLPRegressor'].astype(int)\n",
    "previsao"
   ]
  },
  {
   "cell_type": "code",
   "execution_count": 50,
   "metadata": {
    "id": "wUbYcr-hr0i8",
    "tags": []
   },
   "outputs": [],
   "source": [
    "previsao.to_csv('previsao/previsao_total_vendas_Linear_Regression.csv')"
   ]
  },
  {
   "cell_type": "code",
   "execution_count": null,
   "metadata": {},
   "outputs": [],
   "source": []
  },
  {
   "cell_type": "code",
   "execution_count": null,
   "metadata": {},
   "outputs": [],
   "source": []
  },
  {
   "cell_type": "code",
   "execution_count": null,
   "metadata": {},
   "outputs": [],
   "source": []
  }
 ],
 "metadata": {
  "colab": {
   "collapsed_sections": [
    "Y5H_MDYUnrQm"
   ],
   "provenance": [],
   "toc_visible": true
  },
  "environment": {
   "kernel": "conda-base-py",
   "name": "workbench-notebooks.m122",
   "type": "gcloud",
   "uri": "us-docker.pkg.dev/deeplearning-platform-release/gcr.io/workbench-notebooks:m122"
  },
  "kernelspec": {
   "display_name": "Python 3 (ipykernel) (Local)",
   "language": "python",
   "name": "conda-base-py"
  },
  "language_info": {
   "codemirror_mode": {
    "name": "ipython",
    "version": 3
   },
   "file_extension": ".py",
   "mimetype": "text/x-python",
   "name": "python",
   "nbconvert_exporter": "python",
   "pygments_lexer": "ipython3",
   "version": "3.10.14"
  }
 },
 "nbformat": 4,
 "nbformat_minor": 4
}
